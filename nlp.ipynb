{
 "cells": [
  {
   "cell_type": "code",
   "execution_count": 1,
   "metadata": {},
   "outputs": [],
   "source": [
    "from IPython.display import display"
   ]
  },
  {
   "cell_type": "code",
   "execution_count": 2,
   "metadata": {},
   "outputs": [],
   "source": [
    "import pandas as pd\n",
    "import numpy as np"
   ]
  },
  {
   "cell_type": "code",
   "execution_count": 3,
   "metadata": {},
   "outputs": [
    {
     "data": {
      "text/html": [
       "<div>\n",
       "<style scoped>\n",
       "    .dataframe tbody tr th:only-of-type {\n",
       "        vertical-align: middle;\n",
       "    }\n",
       "\n",
       "    .dataframe tbody tr th {\n",
       "        vertical-align: top;\n",
       "    }\n",
       "\n",
       "    .dataframe thead th {\n",
       "        text-align: right;\n",
       "    }\n",
       "</style>\n",
       "<table border=\"1\" class=\"dataframe\">\n",
       "  <thead>\n",
       "    <tr style=\"text-align: right;\">\n",
       "      <th></th>\n",
       "      <th>id</th>\n",
       "      <th>keyword</th>\n",
       "      <th>location</th>\n",
       "      <th>text</th>\n",
       "      <th>target</th>\n",
       "    </tr>\n",
       "  </thead>\n",
       "  <tbody>\n",
       "    <tr>\n",
       "      <th>0</th>\n",
       "      <td>1</td>\n",
       "      <td>NaN</td>\n",
       "      <td>NaN</td>\n",
       "      <td>Our Deeds are the Reason of this #earthquake M...</td>\n",
       "      <td>1</td>\n",
       "    </tr>\n",
       "    <tr>\n",
       "      <th>1</th>\n",
       "      <td>4</td>\n",
       "      <td>NaN</td>\n",
       "      <td>NaN</td>\n",
       "      <td>Forest fire near La Ronge Sask. Canada</td>\n",
       "      <td>1</td>\n",
       "    </tr>\n",
       "    <tr>\n",
       "      <th>2</th>\n",
       "      <td>5</td>\n",
       "      <td>NaN</td>\n",
       "      <td>NaN</td>\n",
       "      <td>All residents asked to 'shelter in place' are ...</td>\n",
       "      <td>1</td>\n",
       "    </tr>\n",
       "    <tr>\n",
       "      <th>3</th>\n",
       "      <td>6</td>\n",
       "      <td>NaN</td>\n",
       "      <td>NaN</td>\n",
       "      <td>13,000 people receive #wildfires evacuation or...</td>\n",
       "      <td>1</td>\n",
       "    </tr>\n",
       "    <tr>\n",
       "      <th>4</th>\n",
       "      <td>7</td>\n",
       "      <td>NaN</td>\n",
       "      <td>NaN</td>\n",
       "      <td>Just got sent this photo from Ruby #Alaska as ...</td>\n",
       "      <td>1</td>\n",
       "    </tr>\n",
       "  </tbody>\n",
       "</table>\n",
       "</div>"
      ],
      "text/plain": [
       "   id keyword location                                               text  \\\n",
       "0   1     NaN      NaN  Our Deeds are the Reason of this #earthquake M...   \n",
       "1   4     NaN      NaN             Forest fire near La Ronge Sask. Canada   \n",
       "2   5     NaN      NaN  All residents asked to 'shelter in place' are ...   \n",
       "3   6     NaN      NaN  13,000 people receive #wildfires evacuation or...   \n",
       "4   7     NaN      NaN  Just got sent this photo from Ruby #Alaska as ...   \n",
       "\n",
       "   target  \n",
       "0       1  \n",
       "1       1  \n",
       "2       1  \n",
       "3       1  \n",
       "4       1  "
      ]
     },
     "execution_count": 3,
     "metadata": {},
     "output_type": "execute_result"
    }
   ],
   "source": [
    "train_frame = pd.read_csv('data/train.csv')\n",
    "train_frame.head()"
   ]
  },
  {
   "cell_type": "code",
   "execution_count": 4,
   "metadata": {},
   "outputs": [
    {
     "data": {
      "text/html": [
       "<div>\n",
       "<style scoped>\n",
       "    .dataframe tbody tr th:only-of-type {\n",
       "        vertical-align: middle;\n",
       "    }\n",
       "\n",
       "    .dataframe tbody tr th {\n",
       "        vertical-align: top;\n",
       "    }\n",
       "\n",
       "    .dataframe thead th {\n",
       "        text-align: right;\n",
       "    }\n",
       "</style>\n",
       "<table border=\"1\" class=\"dataframe\">\n",
       "  <thead>\n",
       "    <tr style=\"text-align: right;\">\n",
       "      <th></th>\n",
       "      <th>id</th>\n",
       "      <th>keyword</th>\n",
       "      <th>location</th>\n",
       "      <th>text</th>\n",
       "    </tr>\n",
       "  </thead>\n",
       "  <tbody>\n",
       "    <tr>\n",
       "      <th>0</th>\n",
       "      <td>0</td>\n",
       "      <td>NaN</td>\n",
       "      <td>NaN</td>\n",
       "      <td>Just happened a terrible car crash</td>\n",
       "    </tr>\n",
       "    <tr>\n",
       "      <th>1</th>\n",
       "      <td>2</td>\n",
       "      <td>NaN</td>\n",
       "      <td>NaN</td>\n",
       "      <td>Heard about #earthquake is different cities, s...</td>\n",
       "    </tr>\n",
       "    <tr>\n",
       "      <th>2</th>\n",
       "      <td>3</td>\n",
       "      <td>NaN</td>\n",
       "      <td>NaN</td>\n",
       "      <td>there is a forest fire at spot pond, geese are...</td>\n",
       "    </tr>\n",
       "    <tr>\n",
       "      <th>3</th>\n",
       "      <td>9</td>\n",
       "      <td>NaN</td>\n",
       "      <td>NaN</td>\n",
       "      <td>Apocalypse lighting. #Spokane #wildfires</td>\n",
       "    </tr>\n",
       "    <tr>\n",
       "      <th>4</th>\n",
       "      <td>11</td>\n",
       "      <td>NaN</td>\n",
       "      <td>NaN</td>\n",
       "      <td>Typhoon Soudelor kills 28 in China and Taiwan</td>\n",
       "    </tr>\n",
       "  </tbody>\n",
       "</table>\n",
       "</div>"
      ],
      "text/plain": [
       "   id keyword location                                               text\n",
       "0   0     NaN      NaN                 Just happened a terrible car crash\n",
       "1   2     NaN      NaN  Heard about #earthquake is different cities, s...\n",
       "2   3     NaN      NaN  there is a forest fire at spot pond, geese are...\n",
       "3   9     NaN      NaN           Apocalypse lighting. #Spokane #wildfires\n",
       "4  11     NaN      NaN      Typhoon Soudelor kills 28 in China and Taiwan"
      ]
     },
     "execution_count": 4,
     "metadata": {},
     "output_type": "execute_result"
    }
   ],
   "source": [
    "test_frame = pd.read_csv('data/test.csv')\n",
    "test_frame.head()"
   ]
  },
  {
   "cell_type": "code",
   "execution_count": 5,
   "metadata": {},
   "outputs": [
    {
     "data": {
      "text/plain": [
       "((7613, 5), (3263, 4))"
      ]
     },
     "execution_count": 5,
     "metadata": {},
     "output_type": "execute_result"
    }
   ],
   "source": [
    "train_frame.shape, test_frame.shape"
   ]
  },
  {
   "cell_type": "code",
   "execution_count": 6,
   "metadata": {},
   "outputs": [
    {
     "data": {
      "text/html": [
       "<div>\n",
       "<style scoped>\n",
       "    .dataframe tbody tr th:only-of-type {\n",
       "        vertical-align: middle;\n",
       "    }\n",
       "\n",
       "    .dataframe tbody tr th {\n",
       "        vertical-align: top;\n",
       "    }\n",
       "\n",
       "    .dataframe thead th {\n",
       "        text-align: right;\n",
       "    }\n",
       "</style>\n",
       "<table border=\"1\" class=\"dataframe\">\n",
       "  <thead>\n",
       "    <tr style=\"text-align: right;\">\n",
       "      <th></th>\n",
       "      <th>id</th>\n",
       "      <th>target</th>\n",
       "    </tr>\n",
       "  </thead>\n",
       "  <tbody>\n",
       "    <tr>\n",
       "      <th>count</th>\n",
       "      <td>7613.000000</td>\n",
       "      <td>7613.00000</td>\n",
       "    </tr>\n",
       "    <tr>\n",
       "      <th>mean</th>\n",
       "      <td>5441.934848</td>\n",
       "      <td>0.42966</td>\n",
       "    </tr>\n",
       "    <tr>\n",
       "      <th>std</th>\n",
       "      <td>3137.116090</td>\n",
       "      <td>0.49506</td>\n",
       "    </tr>\n",
       "    <tr>\n",
       "      <th>min</th>\n",
       "      <td>1.000000</td>\n",
       "      <td>0.00000</td>\n",
       "    </tr>\n",
       "    <tr>\n",
       "      <th>25%</th>\n",
       "      <td>2734.000000</td>\n",
       "      <td>0.00000</td>\n",
       "    </tr>\n",
       "    <tr>\n",
       "      <th>50%</th>\n",
       "      <td>5408.000000</td>\n",
       "      <td>0.00000</td>\n",
       "    </tr>\n",
       "    <tr>\n",
       "      <th>75%</th>\n",
       "      <td>8146.000000</td>\n",
       "      <td>1.00000</td>\n",
       "    </tr>\n",
       "    <tr>\n",
       "      <th>max</th>\n",
       "      <td>10873.000000</td>\n",
       "      <td>1.00000</td>\n",
       "    </tr>\n",
       "  </tbody>\n",
       "</table>\n",
       "</div>"
      ],
      "text/plain": [
       "                 id      target\n",
       "count   7613.000000  7613.00000\n",
       "mean    5441.934848     0.42966\n",
       "std     3137.116090     0.49506\n",
       "min        1.000000     0.00000\n",
       "25%     2734.000000     0.00000\n",
       "50%     5408.000000     0.00000\n",
       "75%     8146.000000     1.00000\n",
       "max    10873.000000     1.00000"
      ]
     },
     "execution_count": 6,
     "metadata": {},
     "output_type": "execute_result"
    }
   ],
   "source": [
    "train_frame.describe()"
   ]
  },
  {
   "cell_type": "code",
   "execution_count": 7,
   "metadata": {},
   "outputs": [
    {
     "data": {
      "text/plain": [
       "id             0\n",
       "keyword       61\n",
       "location    2533\n",
       "text           0\n",
       "target         0\n",
       "dtype: int64"
      ]
     },
     "execution_count": 7,
     "metadata": {},
     "output_type": "execute_result"
    }
   ],
   "source": [
    "train_frame.isnull().sum()"
   ]
  },
  {
   "cell_type": "code",
   "execution_count": 8,
   "metadata": {},
   "outputs": [],
   "source": [
    "from autocorrect import Speller"
   ]
  },
  {
   "cell_type": "code",
   "execution_count": 9,
   "metadata": {},
   "outputs": [],
   "source": [
    "def clean_test(p):\n",
    "    \n",
    "    list_char = list(\"\"\"!\"#$%&()*+,-./:;<=>?@[\\\\]^_`{|}~\\t\\n\"\"\")\n",
    "    list_start = \"http 1 2 3 4 5 6 7 8 9\".split(' ')\n",
    "\n",
    "    for char in list_char:\n",
    "        p = p.replace(char, '')\n",
    "        \n",
    "    p_list = p.split()\n",
    "    \n",
    "    for start in list_start:\n",
    "        for word in p_list:\n",
    "            if start in word:\n",
    "                p_list.remove(word)\n",
    "                \n",
    "    \"\"\"spell = Speller(lang='en')\n",
    "    for i in range(len(p_list)):\n",
    "        p_list[i] = spell(p_list[i])\"\"\"\n",
    "    \n",
    "    p = ' '.join(p_list)\n",
    "    \n",
    "    return p"
   ]
  },
  {
   "cell_type": "code",
   "execution_count": 10,
   "metadata": {},
   "outputs": [],
   "source": [
    "train_frame['clean_text'] = [clean_test(phrase) for phrase in train_frame.text.to_numpy()]\n",
    "test_frame['clean_text'] = [clean_test(phrase) for phrase in test_frame.text.to_numpy()]"
   ]
  },
  {
   "cell_type": "code",
   "execution_count": 11,
   "metadata": {},
   "outputs": [],
   "source": [
    "from keras.preprocessing.text import Tokenizer"
   ]
  },
  {
   "cell_type": "code",
   "execution_count": 12,
   "metadata": {},
   "outputs": [],
   "source": [
    "data_token = Tokenizer()\n",
    "data_token.fit_on_texts(np.concatenate((train_frame.clean_text.to_numpy(), test_frame.clean_text.to_numpy())))\n",
    "\n",
    "vocab = data_token.word_index"
   ]
  },
  {
   "cell_type": "code",
   "execution_count": 13,
   "metadata": {},
   "outputs": [],
   "source": [
    "train_sequence = data_token.texts_to_sequences(train_frame.clean_text.to_numpy())"
   ]
  },
  {
   "cell_type": "code",
   "execution_count": 14,
   "metadata": {},
   "outputs": [],
   "source": [
    "from keras.utils import pad_sequences"
   ]
  },
  {
   "cell_type": "code",
   "execution_count": 25,
   "metadata": {},
   "outputs": [
    {
     "data": {
      "text/plain": [
       "(7613, 31)"
      ]
     },
     "execution_count": 25,
     "metadata": {},
     "output_type": "execute_result"
    }
   ],
   "source": [
    "train_data = pad_sequences(train_sequence)\n",
    "train_data.shape"
   ]
  },
  {
   "cell_type": "code",
   "execution_count": 24,
   "metadata": {},
   "outputs": [],
   "source": [
    "from sklearn.model_selection import train_test_split"
   ]
  },
  {
   "cell_type": "code",
   "execution_count": 27,
   "metadata": {},
   "outputs": [
    {
     "data": {
      "text/plain": [
       "((6090, 31), (1523, 31), (6090,), (1523,))"
      ]
     },
     "execution_count": 27,
     "metadata": {},
     "output_type": "execute_result"
    }
   ],
   "source": [
    "x_train, x_valid, y_train, y_valid = train_test_split(train_data, train_frame.target.to_numpy(), test_size=0.2, random_state=42)\n",
    "x_train.shape, x_valid.shape, y_train.shape, y_valid.shape"
   ]
  },
  {
   "cell_type": "code",
   "execution_count": 32,
   "metadata": {},
   "outputs": [],
   "source": [
    "from keras.models import Sequential\n",
    "from keras.layers import Embedding, GlobalMaxPool1D, Dense, Input\n",
    "from keras.activations import relu, sigmoid"
   ]
  },
  {
   "cell_type": "code",
   "execution_count": 52,
   "metadata": {},
   "outputs": [
    {
     "name": "stdout",
     "output_type": "stream",
     "text": [
      "Model: \"sequential_13\"\n",
      "_________________________________________________________________\n",
      " Layer (type)                Output Shape              Param #   \n",
      "=================================================================\n",
      " embedding (Embedding)       (None, 31, 64)            1423744   \n",
      "                                                                 \n",
      " global_max_pooling1d_3 (Glo  (None, 64)               0         \n",
      " balMaxPooling1D)                                                \n",
      "                                                                 \n",
      " dense0 (Dense)              (None, 64)                4160      \n",
      "                                                                 \n",
      " output (Dense)              (None, 1)                 65        \n",
      "                                                                 \n",
      "=================================================================\n",
      "Total params: 1,427,969\n",
      "Trainable params: 1,427,969\n",
      "Non-trainable params: 0\n",
      "_________________________________________________________________\n"
     ]
    }
   ],
   "source": [
    "model = Sequential()\n",
    "\n",
    "model.add(Input(shape=(train_data.shape[1],), name='input'))\n",
    "\n",
    "model.add(Embedding(input_dim = len(vocab), output_dim=64, name='embedding'))\n",
    "model.add(GlobalMaxPool1D())\n",
    "model.add(Dense(64, activation=relu, name='dense0'))\n",
    "\n",
    "model.add(Dense(1, activation=sigmoid, name='output'))\n",
    "\n",
    "model.summary()"
   ]
  },
  {
   "cell_type": "code",
   "execution_count": 46,
   "metadata": {},
   "outputs": [],
   "source": [
    "from keras.utils import plot_model"
   ]
  },
  {
   "cell_type": "code",
   "execution_count": 48,
   "metadata": {},
   "outputs": [
    {
     "data": {
      "image/png": "[encoded data removed]",
      "text/plain": [
       "<IPython.core.display.Image object>"
      ]
     },
     "execution_count": 48,
     "metadata": {},
     "output_type": "execute_result"
    }
   ],
   "source": [
    "plot_model(model, show_shapes=True, show_layer_names=True)"
   ]
  },
  {
   "cell_type": "code",
   "execution_count": 53,
   "metadata": {},
   "outputs": [],
   "source": [
    "from keras.optimizers import Adam"
   ]
  },
  {
   "cell_type": "code",
   "execution_count": 54,
   "metadata": {},
   "outputs": [],
   "source": [
    "opt = Adam(\n",
    "    learning_rate=0.001,\n",
    "    beta_1=0.9,\n",
    "    beta_2=0.999,\n",
    "    epsilon=1e-07,\n",
    "    amsgrad=False,\n",
    "    name='Adam'\n",
    ")"
   ]
  },
  {
   "cell_type": "code",
   "execution_count": 55,
   "metadata": {},
   "outputs": [],
   "source": [
    "from keras.callbacks import EarlyStopping"
   ]
  },
  {
   "cell_type": "code",
   "execution_count": 56,
   "metadata": {},
   "outputs": [],
   "source": [
    "callback = EarlyStopping(\n",
    "    monitor=\"accuracy\",\n",
    "    min_delta=0.01,\n",
    "    patience=10,\n",
    "    verbose=1,\n",
    "    mode=\"max\",\n",
    "    restore_best_weights=True\n",
    ")"
   ]
  },
  {
   "cell_type": "code",
   "execution_count": 57,
   "metadata": {},
   "outputs": [],
   "source": [
    "from keras.losses import BinaryCrossentropy"
   ]
  },
  {
   "cell_type": "code",
   "execution_count": 60,
   "metadata": {},
   "outputs": [
    {
     "name": "stdout",
     "output_type": "stream",
     "text": [
      "Epoch 1/100\n",
      "61/61 [==============================] - 1s 7ms/step - loss: 0.0192 - accuracy: 0.9885 - val_loss: 1.1412 - val_accuracy: 0.7459\n",
      "Epoch 2/100\n",
      "61/61 [==============================] - 0s 6ms/step - loss: 0.0192 - accuracy: 0.9885 - val_loss: 1.1541 - val_accuracy: 0.7492\n",
      "Epoch 3/100\n",
      "61/61 [==============================] - 0s 6ms/step - loss: 0.0191 - accuracy: 0.9887 - val_loss: 1.1705 - val_accuracy: 0.7538\n",
      "Epoch 4/100\n",
      "61/61 [==============================] - 0s 6ms/step - loss: 0.0191 - accuracy: 0.9885 - val_loss: 1.1763 - val_accuracy: 0.7472\n",
      "Epoch 5/100\n",
      "61/61 [==============================] - 0s 6ms/step - loss: 0.0191 - accuracy: 0.9887 - val_loss: 1.1896 - val_accuracy: 0.7498\n",
      "Epoch 6/100\n",
      "61/61 [==============================] - 0s 6ms/step - loss: 0.0191 - accuracy: 0.9890 - val_loss: 1.1944 - val_accuracy: 0.7459\n",
      "Epoch 7/100\n",
      "61/61 [==============================] - 0s 6ms/step - loss: 0.0192 - accuracy: 0.9882 - val_loss: 1.2076 - val_accuracy: 0.7472\n",
      "Epoch 8/100\n",
      "61/61 [==============================] - 0s 6ms/step - loss: 0.0192 - accuracy: 0.9890 - val_loss: 1.2150 - val_accuracy: 0.7518\n",
      "Epoch 9/100\n",
      "61/61 [==============================] - 0s 6ms/step - loss: 0.0191 - accuracy: 0.9883 - val_loss: 1.2177 - val_accuracy: 0.7459\n",
      "Epoch 10/100\n",
      "61/61 [==============================] - 0s 6ms/step - loss: 0.0192 - accuracy: 0.9887 - val_loss: 1.2195 - val_accuracy: 0.7433\n",
      "Epoch 11/100\n",
      "61/61 [==============================] - 0s 6ms/step - loss: 0.0193 - accuracy: 0.9887 - val_loss: 1.2342 - val_accuracy: 0.7518\n",
      "Epoch 12/100\n",
      "61/61 [==============================] - 0s 6ms/step - loss: 0.0191 - accuracy: 0.9878 - val_loss: 1.2294 - val_accuracy: 0.7446\n",
      "Epoch 13/100\n",
      "61/61 [==============================] - 0s 6ms/step - loss: 0.0191 - accuracy: 0.9890 - val_loss: 1.2436 - val_accuracy: 0.7466\n",
      "Epoch 14/100\n",
      "61/61 [==============================] - 0s 6ms/step - loss: 0.0192 - accuracy: 0.9878 - val_loss: 1.2513 - val_accuracy: 0.7498\n",
      "Epoch 15/100\n",
      "61/61 [==============================] - 0s 6ms/step - loss: 0.0193 - accuracy: 0.9887 - val_loss: 1.2587 - val_accuracy: 0.7505\n",
      "Epoch 16/100\n",
      "61/61 [==============================] - 0s 6ms/step - loss: 0.0191 - accuracy: 0.9885 - val_loss: 1.2561 - val_accuracy: 0.7439\n",
      "Epoch 17/100\n",
      "61/61 [==============================] - 0s 6ms/step - loss: 0.0192 - accuracy: 0.9883 - val_loss: 1.2514 - val_accuracy: 0.7459\n",
      "Epoch 18/100\n",
      "61/61 [==============================] - 0s 6ms/step - loss: 0.0192 - accuracy: 0.9875 - val_loss: 1.2586 - val_accuracy: 0.7466\n",
      "Epoch 19/100\n",
      "61/61 [==============================] - 0s 6ms/step - loss: 0.0191 - accuracy: 0.9874 - val_loss: 1.2679 - val_accuracy: 0.7479\n",
      "Epoch 20/100\n",
      "61/61 [==============================] - 0s 6ms/step - loss: 0.0193 - accuracy: 0.9880 - val_loss: 1.2729 - val_accuracy: 0.7466\n",
      "Epoch 21/100\n",
      "61/61 [==============================] - 0s 6ms/step - loss: 0.0191 - accuracy: 0.9888 - val_loss: 1.2870 - val_accuracy: 0.7511\n",
      "Epoch 22/100\n",
      "61/61 [==============================] - 0s 7ms/step - loss: 0.0190 - accuracy: 0.9883 - val_loss: 1.2867 - val_accuracy: 0.7452\n",
      "Epoch 23/100\n",
      "61/61 [==============================] - 0s 7ms/step - loss: 0.0192 - accuracy: 0.9882 - val_loss: 1.3031 - val_accuracy: 0.7518\n",
      "Epoch 24/100\n",
      "61/61 [==============================] - 0s 6ms/step - loss: 0.0193 - accuracy: 0.9883 - val_loss: 1.2896 - val_accuracy: 0.7433\n",
      "Epoch 25/100\n",
      "61/61 [==============================] - 0s 6ms/step - loss: 0.0191 - accuracy: 0.9882 - val_loss: 1.2978 - val_accuracy: 0.7498\n",
      "Epoch 26/100\n",
      "61/61 [==============================] - 0s 6ms/step - loss: 0.0190 - accuracy: 0.9874 - val_loss: 1.3055 - val_accuracy: 0.7452\n",
      "Epoch 27/100\n",
      "61/61 [==============================] - 0s 6ms/step - loss: 0.0192 - accuracy: 0.9878 - val_loss: 1.3129 - val_accuracy: 0.7472\n",
      "Epoch 28/100\n",
      "61/61 [==============================] - 0s 6ms/step - loss: 0.0192 - accuracy: 0.9888 - val_loss: 1.3123 - val_accuracy: 0.7459\n",
      "Epoch 29/100\n",
      "61/61 [==============================] - 0s 6ms/step - loss: 0.0193 - accuracy: 0.9888 - val_loss: 1.2832 - val_accuracy: 0.7479\n",
      "Epoch 30/100\n",
      "61/61 [==============================] - 0s 6ms/step - loss: 0.0192 - accuracy: 0.9887 - val_loss: 1.2897 - val_accuracy: 0.7531\n",
      "Epoch 31/100\n",
      "61/61 [==============================] - 0s 6ms/step - loss: 0.0194 - accuracy: 0.9892 - val_loss: 1.2983 - val_accuracy: 0.7485\n",
      "Epoch 32/100\n",
      "61/61 [==============================] - 0s 6ms/step - loss: 0.0193 - accuracy: 0.9882 - val_loss: 1.3144 - val_accuracy: 0.7505\n",
      "Epoch 33/100\n",
      "61/61 [==============================] - 0s 6ms/step - loss: 0.0191 - accuracy: 0.9882 - val_loss: 1.3078 - val_accuracy: 0.7466\n",
      "Epoch 34/100\n",
      "61/61 [==============================] - 0s 6ms/step - loss: 0.0193 - accuracy: 0.9887 - val_loss: 1.3250 - val_accuracy: 0.7538\n",
      "Epoch 35/100\n",
      "61/61 [==============================] - 0s 6ms/step - loss: 0.0191 - accuracy: 0.9875 - val_loss: 1.3192 - val_accuracy: 0.7492\n",
      "Epoch 36/100\n",
      "61/61 [==============================] - 0s 6ms/step - loss: 0.0192 - accuracy: 0.9878 - val_loss: 1.3164 - val_accuracy: 0.7466\n",
      "Epoch 37/100\n",
      "61/61 [==============================] - 0s 6ms/step - loss: 0.0192 - accuracy: 0.9905 - val_loss: 1.3302 - val_accuracy: 0.7525\n",
      "Epoch 38/100\n",
      "61/61 [==============================] - 0s 6ms/step - loss: 0.0191 - accuracy: 0.9877 - val_loss: 1.3319 - val_accuracy: 0.7492\n",
      "Epoch 39/100\n",
      "61/61 [==============================] - 0s 6ms/step - loss: 0.0191 - accuracy: 0.9888 - val_loss: 1.3361 - val_accuracy: 0.7479\n",
      "Epoch 40/100\n",
      "61/61 [==============================] - 0s 5ms/step - loss: 0.0193 - accuracy: 0.9885 - val_loss: 1.3336 - val_accuracy: 0.7466\n",
      "Epoch 41/100\n",
      "61/61 [==============================] - 0s 5ms/step - loss: 0.0190 - accuracy: 0.9892 - val_loss: 1.3585 - val_accuracy: 0.7538\n",
      "Epoch 42/100\n",
      "61/61 [==============================] - 0s 6ms/step - loss: 0.0194 - accuracy: 0.9883 - val_loss: 1.3534 - val_accuracy: 0.7479\n",
      "Epoch 43/100\n",
      "61/61 [==============================] - 0s 6ms/step - loss: 0.0191 - accuracy: 0.9872 - val_loss: 1.3607 - val_accuracy: 0.7492\n",
      "Epoch 44/100\n",
      "61/61 [==============================] - 0s 6ms/step - loss: 0.0192 - accuracy: 0.9874 - val_loss: 1.3395 - val_accuracy: 0.7485\n",
      "Epoch 45/100\n",
      "61/61 [==============================] - 0s 6ms/step - loss: 0.0192 - accuracy: 0.9887 - val_loss: 1.3503 - val_accuracy: 0.7459\n",
      "Epoch 46/100\n",
      "61/61 [==============================] - 0s 5ms/step - loss: 0.0192 - accuracy: 0.9878 - val_loss: 1.3556 - val_accuracy: 0.7466\n",
      "Epoch 47/100\n",
      "61/61 [==============================] - 0s 5ms/step - loss: 0.0192 - accuracy: 0.9877 - val_loss: 1.3604 - val_accuracy: 0.7479\n",
      "Epoch 48/100\n",
      "61/61 [==============================] - 0s 6ms/step - loss: 0.0191 - accuracy: 0.9874 - val_loss: 1.3667 - val_accuracy: 0.7479\n",
      "Epoch 49/100\n",
      "61/61 [==============================] - 0s 5ms/step - loss: 0.0191 - accuracy: 0.9877 - val_loss: 1.3614 - val_accuracy: 0.7452\n",
      "Epoch 50/100\n",
      "61/61 [==============================] - 0s 5ms/step - loss: 0.0192 - accuracy: 0.9892 - val_loss: 1.4046 - val_accuracy: 0.7597\n",
      "Epoch 51/100\n",
      "61/61 [==============================] - 0s 5ms/step - loss: 0.0193 - accuracy: 0.9888 - val_loss: 1.3776 - val_accuracy: 0.7492\n",
      "Epoch 52/100\n",
      "61/61 [==============================] - 0s 5ms/step - loss: 0.0192 - accuracy: 0.9872 - val_loss: 1.3667 - val_accuracy: 0.7472\n",
      "Epoch 53/100\n",
      "61/61 [==============================] - 0s 5ms/step - loss: 0.0191 - accuracy: 0.9882 - val_loss: 1.3722 - val_accuracy: 0.7479\n",
      "Epoch 54/100\n",
      "61/61 [==============================] - 0s 5ms/step - loss: 0.0191 - accuracy: 0.9885 - val_loss: 1.3630 - val_accuracy: 0.7518\n",
      "Epoch 55/100\n",
      "61/61 [==============================] - 0s 6ms/step - loss: 0.0191 - accuracy: 0.9882 - val_loss: 1.3744 - val_accuracy: 0.7452\n",
      "Epoch 56/100\n",
      "61/61 [==============================] - 0s 6ms/step - loss: 0.0190 - accuracy: 0.9887 - val_loss: 1.3958 - val_accuracy: 0.7525\n",
      "Epoch 57/100\n",
      "61/61 [==============================] - 0s 5ms/step - loss: 0.0194 - accuracy: 0.9888 - val_loss: 1.4092 - val_accuracy: 0.7525\n",
      "Epoch 58/100\n",
      "61/61 [==============================] - 0s 5ms/step - loss: 0.0192 - accuracy: 0.9882 - val_loss: 1.3886 - val_accuracy: 0.7485\n",
      "Epoch 59/100\n",
      "61/61 [==============================] - 0s 5ms/step - loss: 0.0190 - accuracy: 0.9870 - val_loss: 1.4207 - val_accuracy: 0.7531\n",
      "Epoch 60/100\n",
      "61/61 [==============================] - 0s 5ms/step - loss: 0.0191 - accuracy: 0.9874 - val_loss: 1.4176 - val_accuracy: 0.7492\n",
      "Epoch 61/100\n",
      "61/61 [==============================] - 0s 5ms/step - loss: 0.0190 - accuracy: 0.9878 - val_loss: 1.4327 - val_accuracy: 0.7498\n",
      "Epoch 62/100\n",
      "61/61 [==============================] - 0s 5ms/step - loss: 0.0192 - accuracy: 0.9875 - val_loss: 1.4264 - val_accuracy: 0.7472\n",
      "Epoch 63/100\n",
      "61/61 [==============================] - 0s 6ms/step - loss: 0.0191 - accuracy: 0.9887 - val_loss: 1.4132 - val_accuracy: 0.7459\n",
      "Epoch 64/100\n",
      "61/61 [==============================] - 0s 5ms/step - loss: 0.0193 - accuracy: 0.9892 - val_loss: 1.4165 - val_accuracy: 0.7446\n",
      "Epoch 65/100\n",
      "61/61 [==============================] - 0s 5ms/step - loss: 0.0190 - accuracy: 0.9878 - val_loss: 1.4382 - val_accuracy: 0.7525\n",
      "Epoch 66/100\n",
      "61/61 [==============================] - 0s 5ms/step - loss: 0.0191 - accuracy: 0.9890 - val_loss: 1.4268 - val_accuracy: 0.7446\n",
      "Epoch 67/100\n",
      "61/61 [==============================] - 0s 5ms/step - loss: 0.0191 - accuracy: 0.9892 - val_loss: 1.4374 - val_accuracy: 0.7413\n",
      "Epoch 68/100\n",
      "61/61 [==============================] - 0s 5ms/step - loss: 0.0190 - accuracy: 0.9887 - val_loss: 1.4561 - val_accuracy: 0.7505\n",
      "Epoch 69/100\n",
      "61/61 [==============================] - 0s 5ms/step - loss: 0.0190 - accuracy: 0.9877 - val_loss: 1.4258 - val_accuracy: 0.7472\n",
      "Epoch 70/100\n",
      "61/61 [==============================] - 0s 5ms/step - loss: 0.0195 - accuracy: 0.9892 - val_loss: 1.4762 - val_accuracy: 0.7479\n",
      "Epoch 71/100\n",
      "61/61 [==============================] - 0s 6ms/step - loss: 0.0192 - accuracy: 0.9883 - val_loss: 1.5118 - val_accuracy: 0.7603\n",
      "Epoch 72/100\n",
      "61/61 [==============================] - 0s 5ms/step - loss: 0.0192 - accuracy: 0.9882 - val_loss: 1.4826 - val_accuracy: 0.7531\n",
      "Epoch 73/100\n",
      "61/61 [==============================] - 0s 5ms/step - loss: 0.0189 - accuracy: 0.9887 - val_loss: 1.4722 - val_accuracy: 0.7439\n",
      "Epoch 74/100\n",
      "61/61 [==============================] - 0s 5ms/step - loss: 0.0191 - accuracy: 0.9882 - val_loss: 1.4885 - val_accuracy: 0.7531\n",
      "Epoch 75/100\n",
      "61/61 [==============================] - 0s 5ms/step - loss: 0.0195 - accuracy: 0.9887 - val_loss: 1.4225 - val_accuracy: 0.7610\n",
      "Epoch 76/100\n",
      "61/61 [==============================] - 0s 5ms/step - loss: 0.0190 - accuracy: 0.9878 - val_loss: 1.4041 - val_accuracy: 0.7590\n",
      "Epoch 77/100\n",
      "61/61 [==============================] - 0s 5ms/step - loss: 0.0191 - accuracy: 0.9877 - val_loss: 1.4400 - val_accuracy: 0.7603\n",
      "Epoch 78/100\n",
      "61/61 [==============================] - 0s 5ms/step - loss: 0.0190 - accuracy: 0.9890 - val_loss: 1.4221 - val_accuracy: 0.7485\n",
      "Epoch 79/100\n",
      "61/61 [==============================] - 0s 5ms/step - loss: 0.0190 - accuracy: 0.9893 - val_loss: 1.4489 - val_accuracy: 0.7603\n",
      "Epoch 80/100\n",
      "61/61 [==============================] - 0s 6ms/step - loss: 0.0193 - accuracy: 0.9870 - val_loss: 1.4445 - val_accuracy: 0.7557\n",
      "Epoch 81/100\n",
      "61/61 [==============================] - 0s 6ms/step - loss: 0.0191 - accuracy: 0.9885 - val_loss: 1.4434 - val_accuracy: 0.7452\n",
      "Epoch 82/100\n",
      "61/61 [==============================] - 0s 5ms/step - loss: 0.0193 - accuracy: 0.9883 - val_loss: 1.4319 - val_accuracy: 0.7459\n",
      "Epoch 83/100\n",
      "61/61 [==============================] - 0s 6ms/step - loss: 0.0190 - accuracy: 0.9878 - val_loss: 1.4514 - val_accuracy: 0.7511\n",
      "Epoch 84/100\n",
      "61/61 [==============================] - 0s 6ms/step - loss: 0.0190 - accuracy: 0.9883 - val_loss: 1.4470 - val_accuracy: 0.7452\n",
      "Epoch 85/100\n",
      "61/61 [==============================] - 0s 6ms/step - loss: 0.0191 - accuracy: 0.9860 - val_loss: 1.4492 - val_accuracy: 0.7472\n",
      "Epoch 86/100\n",
      "61/61 [==============================] - 0s 6ms/step - loss: 0.0189 - accuracy: 0.9890 - val_loss: 1.5022 - val_accuracy: 0.7617\n",
      "Epoch 87/100\n",
      "61/61 [==============================] - 0s 5ms/step - loss: 0.0192 - accuracy: 0.9888 - val_loss: 1.4547 - val_accuracy: 0.7557\n",
      "Epoch 88/100\n",
      "61/61 [==============================] - 0s 6ms/step - loss: 0.0190 - accuracy: 0.9869 - val_loss: 1.4485 - val_accuracy: 0.7498\n",
      "Epoch 89/100\n",
      "61/61 [==============================] - 0s 6ms/step - loss: 0.0190 - accuracy: 0.9880 - val_loss: 1.4570 - val_accuracy: 0.7518\n",
      "Epoch 90/100\n",
      "61/61 [==============================] - 0s 6ms/step - loss: 0.0190 - accuracy: 0.9874 - val_loss: 1.4600 - val_accuracy: 0.7505\n",
      "Epoch 91/100\n",
      "61/61 [==============================] - 0s 6ms/step - loss: 0.0190 - accuracy: 0.9882 - val_loss: 1.4764 - val_accuracy: 0.7518\n",
      "Epoch 92/100\n",
      "61/61 [==============================] - 0s 6ms/step - loss: 0.0191 - accuracy: 0.9887 - val_loss: 1.4795 - val_accuracy: 0.7485\n",
      "Epoch 93/100\n",
      "61/61 [==============================] - 0s 6ms/step - loss: 0.0189 - accuracy: 0.9890 - val_loss: 1.5077 - val_accuracy: 0.7597\n",
      "Epoch 94/100\n",
      "61/61 [==============================] - 0s 6ms/step - loss: 0.0190 - accuracy: 0.9885 - val_loss: 1.5043 - val_accuracy: 0.7564\n",
      "Epoch 95/100\n",
      "61/61 [==============================] - 0s 6ms/step - loss: 0.0189 - accuracy: 0.9882 - val_loss: 1.4930 - val_accuracy: 0.7485\n",
      "Epoch 96/100\n",
      "61/61 [==============================] - 0s 6ms/step - loss: 0.0190 - accuracy: 0.9887 - val_loss: 1.5046 - val_accuracy: 0.7531\n",
      "Epoch 97/100\n",
      "61/61 [==============================] - 0s 6ms/step - loss: 0.0189 - accuracy: 0.9883 - val_loss: 1.5123 - val_accuracy: 0.7511\n",
      "Epoch 98/100\n",
      "61/61 [==============================] - 0s 6ms/step - loss: 0.0193 - accuracy: 0.9875 - val_loss: 1.5341 - val_accuracy: 0.7610\n",
      "Epoch 99/100\n",
      "50/61 [=======================>......] - ETA: 0s - loss: 0.0181 - accuracy: 0.9890"
     ]
    },
    {
     "ename": "KeyboardInterrupt",
     "evalue": "",
     "output_type": "error",
     "traceback": [
      "\u001b[1;31m---------------------------------------------------------------------------\u001b[0m",
      "\u001b[1;31mKeyboardInterrupt\u001b[0m                         Traceback (most recent call last)",
      "\u001b[1;32mc:\\Users\\Guy\\Desktop\\Kaggle-NLP-DisasterTweet\\nlp.ipynb Cellule 27\u001b[0m in \u001b[0;36m<cell line: 2>\u001b[1;34m()\u001b[0m\n\u001b[0;32m      <a href='vscode-notebook-cell:/c%3A/Users/Guy/Desktop/Kaggle-NLP-DisasterTweet/nlp.ipynb#ch0000064?line=0'>1</a>\u001b[0m model\u001b[39m.\u001b[39mcompile(optimizer\u001b[39m=\u001b[39mopt, loss\u001b[39m=\u001b[39mBinaryCrossentropy(), metrics\u001b[39m=\u001b[39m[\u001b[39m'\u001b[39m\u001b[39maccuracy\u001b[39m\u001b[39m'\u001b[39m])\n\u001b[1;32m----> <a href='vscode-notebook-cell:/c%3A/Users/Guy/Desktop/Kaggle-NLP-DisasterTweet/nlp.ipynb#ch0000064?line=1'>2</a>\u001b[0m model\u001b[39m.\u001b[39;49mfit(x_train, y_train, batch_size\u001b[39m=\u001b[39;49m\u001b[39m100\u001b[39;49m, epochs\u001b[39m=\u001b[39;49m\u001b[39m100\u001b[39;49m, callbacks\u001b[39m=\u001b[39;49m[], validation_data\u001b[39m=\u001b[39;49m(x_valid, y_valid))\n",
      "File \u001b[1;32mc:\\Python3104\\lib\\site-packages\\keras\\utils\\traceback_utils.py:64\u001b[0m, in \u001b[0;36mfilter_traceback.<locals>.error_handler\u001b[1;34m(*args, **kwargs)\u001b[0m\n\u001b[0;32m     62\u001b[0m filtered_tb \u001b[39m=\u001b[39m \u001b[39mNone\u001b[39;00m\n\u001b[0;32m     63\u001b[0m \u001b[39mtry\u001b[39;00m:\n\u001b[1;32m---> 64\u001b[0m   \u001b[39mreturn\u001b[39;00m fn(\u001b[39m*\u001b[39margs, \u001b[39m*\u001b[39m\u001b[39m*\u001b[39mkwargs)\n\u001b[0;32m     65\u001b[0m \u001b[39mexcept\u001b[39;00m \u001b[39mException\u001b[39;00m \u001b[39mas\u001b[39;00m e:  \u001b[39m# pylint: disable=broad-except\u001b[39;00m\n\u001b[0;32m     66\u001b[0m   filtered_tb \u001b[39m=\u001b[39m _process_traceback_frames(e\u001b[39m.\u001b[39m__traceback__)\n",
      "File \u001b[1;32mc:\\Python3104\\lib\\site-packages\\keras\\engine\\training.py:1445\u001b[0m, in \u001b[0;36mModel.fit\u001b[1;34m(self, x, y, batch_size, epochs, verbose, callbacks, validation_split, validation_data, shuffle, class_weight, sample_weight, initial_epoch, steps_per_epoch, validation_steps, validation_batch_size, validation_freq, max_queue_size, workers, use_multiprocessing)\u001b[0m\n\u001b[0;32m   1431\u001b[0m \u001b[39mif\u001b[39;00m \u001b[39mgetattr\u001b[39m(\u001b[39mself\u001b[39m, \u001b[39m'\u001b[39m\u001b[39m_eval_data_handler\u001b[39m\u001b[39m'\u001b[39m, \u001b[39mNone\u001b[39;00m) \u001b[39mis\u001b[39;00m \u001b[39mNone\u001b[39;00m:\n\u001b[0;32m   1432\u001b[0m   \u001b[39mself\u001b[39m\u001b[39m.\u001b[39m_eval_data_handler \u001b[39m=\u001b[39m data_adapter\u001b[39m.\u001b[39mget_data_handler(\n\u001b[0;32m   1433\u001b[0m       x\u001b[39m=\u001b[39mval_x,\n\u001b[0;32m   1434\u001b[0m       y\u001b[39m=\u001b[39mval_y,\n\u001b[1;32m   (...)\u001b[0m\n\u001b[0;32m   1443\u001b[0m       model\u001b[39m=\u001b[39m\u001b[39mself\u001b[39m,\n\u001b[0;32m   1444\u001b[0m       steps_per_execution\u001b[39m=\u001b[39m\u001b[39mself\u001b[39m\u001b[39m.\u001b[39m_steps_per_execution)\n\u001b[1;32m-> 1445\u001b[0m val_logs \u001b[39m=\u001b[39m \u001b[39mself\u001b[39;49m\u001b[39m.\u001b[39;49mevaluate(\n\u001b[0;32m   1446\u001b[0m     x\u001b[39m=\u001b[39;49mval_x,\n\u001b[0;32m   1447\u001b[0m     y\u001b[39m=\u001b[39;49mval_y,\n\u001b[0;32m   1448\u001b[0m     sample_weight\u001b[39m=\u001b[39;49mval_sample_weight,\n\u001b[0;32m   1449\u001b[0m     batch_size\u001b[39m=\u001b[39;49mvalidation_batch_size \u001b[39mor\u001b[39;49;00m batch_size,\n\u001b[0;32m   1450\u001b[0m     steps\u001b[39m=\u001b[39;49mvalidation_steps,\n\u001b[0;32m   1451\u001b[0m     callbacks\u001b[39m=\u001b[39;49mcallbacks,\n\u001b[0;32m   1452\u001b[0m     max_queue_size\u001b[39m=\u001b[39;49mmax_queue_size,\n\u001b[0;32m   1453\u001b[0m     workers\u001b[39m=\u001b[39;49mworkers,\n\u001b[0;32m   1454\u001b[0m     use_multiprocessing\u001b[39m=\u001b[39;49muse_multiprocessing,\n\u001b[0;32m   1455\u001b[0m     return_dict\u001b[39m=\u001b[39;49m\u001b[39mTrue\u001b[39;49;00m,\n\u001b[0;32m   1456\u001b[0m     _use_cached_eval_dataset\u001b[39m=\u001b[39;49m\u001b[39mTrue\u001b[39;49;00m)\n\u001b[0;32m   1457\u001b[0m val_logs \u001b[39m=\u001b[39m {\u001b[39m'\u001b[39m\u001b[39mval_\u001b[39m\u001b[39m'\u001b[39m \u001b[39m+\u001b[39m name: val \u001b[39mfor\u001b[39;00m name, val \u001b[39min\u001b[39;00m val_logs\u001b[39m.\u001b[39mitems()}\n\u001b[0;32m   1458\u001b[0m epoch_logs\u001b[39m.\u001b[39mupdate(val_logs)\n",
      "File \u001b[1;32mc:\\Python3104\\lib\\site-packages\\keras\\utils\\traceback_utils.py:64\u001b[0m, in \u001b[0;36mfilter_traceback.<locals>.error_handler\u001b[1;34m(*args, **kwargs)\u001b[0m\n\u001b[0;32m     62\u001b[0m filtered_tb \u001b[39m=\u001b[39m \u001b[39mNone\u001b[39;00m\n\u001b[0;32m     63\u001b[0m \u001b[39mtry\u001b[39;00m:\n\u001b[1;32m---> 64\u001b[0m   \u001b[39mreturn\u001b[39;00m fn(\u001b[39m*\u001b[39margs, \u001b[39m*\u001b[39m\u001b[39m*\u001b[39mkwargs)\n\u001b[0;32m     65\u001b[0m \u001b[39mexcept\u001b[39;00m \u001b[39mException\u001b[39;00m \u001b[39mas\u001b[39;00m e:  \u001b[39m# pylint: disable=broad-except\u001b[39;00m\n\u001b[0;32m     66\u001b[0m   filtered_tb \u001b[39m=\u001b[39m _process_traceback_frames(e\u001b[39m.\u001b[39m__traceback__)\n",
      "File \u001b[1;32mc:\\Python3104\\lib\\site-packages\\keras\\engine\\training.py:1756\u001b[0m, in \u001b[0;36mModel.evaluate\u001b[1;34m(self, x, y, batch_size, verbose, sample_weight, steps, callbacks, max_queue_size, workers, use_multiprocessing, return_dict, **kwargs)\u001b[0m\n\u001b[0;32m   1754\u001b[0m \u001b[39mwith\u001b[39;00m tf\u001b[39m.\u001b[39mprofiler\u001b[39m.\u001b[39mexperimental\u001b[39m.\u001b[39mTrace(\u001b[39m'\u001b[39m\u001b[39mtest\u001b[39m\u001b[39m'\u001b[39m, step_num\u001b[39m=\u001b[39mstep, _r\u001b[39m=\u001b[39m\u001b[39m1\u001b[39m):\n\u001b[0;32m   1755\u001b[0m   callbacks\u001b[39m.\u001b[39mon_test_batch_begin(step)\n\u001b[1;32m-> 1756\u001b[0m   tmp_logs \u001b[39m=\u001b[39m \u001b[39mself\u001b[39;49m\u001b[39m.\u001b[39;49mtest_function(iterator)\n\u001b[0;32m   1757\u001b[0m   \u001b[39mif\u001b[39;00m data_handler\u001b[39m.\u001b[39mshould_sync:\n\u001b[0;32m   1758\u001b[0m     context\u001b[39m.\u001b[39masync_wait()\n",
      "File \u001b[1;32mc:\\Python3104\\lib\\site-packages\\tensorflow\\python\\util\\traceback_utils.py:150\u001b[0m, in \u001b[0;36mfilter_traceback.<locals>.error_handler\u001b[1;34m(*args, **kwargs)\u001b[0m\n\u001b[0;32m    148\u001b[0m filtered_tb \u001b[39m=\u001b[39m \u001b[39mNone\u001b[39;00m\n\u001b[0;32m    149\u001b[0m \u001b[39mtry\u001b[39;00m:\n\u001b[1;32m--> 150\u001b[0m   \u001b[39mreturn\u001b[39;00m fn(\u001b[39m*\u001b[39margs, \u001b[39m*\u001b[39m\u001b[39m*\u001b[39mkwargs)\n\u001b[0;32m    151\u001b[0m \u001b[39mexcept\u001b[39;00m \u001b[39mException\u001b[39;00m \u001b[39mas\u001b[39;00m e:\n\u001b[0;32m    152\u001b[0m   filtered_tb \u001b[39m=\u001b[39m _process_traceback_frames(e\u001b[39m.\u001b[39m__traceback__)\n",
      "File \u001b[1;32mc:\\Python3104\\lib\\site-packages\\tensorflow\\python\\eager\\def_function.py:915\u001b[0m, in \u001b[0;36mFunction.__call__\u001b[1;34m(self, *args, **kwds)\u001b[0m\n\u001b[0;32m    912\u001b[0m compiler \u001b[39m=\u001b[39m \u001b[39m\"\u001b[39m\u001b[39mxla\u001b[39m\u001b[39m\"\u001b[39m \u001b[39mif\u001b[39;00m \u001b[39mself\u001b[39m\u001b[39m.\u001b[39m_jit_compile \u001b[39melse\u001b[39;00m \u001b[39m\"\u001b[39m\u001b[39mnonXla\u001b[39m\u001b[39m\"\u001b[39m\n\u001b[0;32m    914\u001b[0m \u001b[39mwith\u001b[39;00m OptionalXlaContext(\u001b[39mself\u001b[39m\u001b[39m.\u001b[39m_jit_compile):\n\u001b[1;32m--> 915\u001b[0m   result \u001b[39m=\u001b[39m \u001b[39mself\u001b[39m\u001b[39m.\u001b[39m_call(\u001b[39m*\u001b[39margs, \u001b[39m*\u001b[39m\u001b[39m*\u001b[39mkwds)\n\u001b[0;32m    917\u001b[0m new_tracing_count \u001b[39m=\u001b[39m \u001b[39mself\u001b[39m\u001b[39m.\u001b[39mexperimental_get_tracing_count()\n\u001b[0;32m    918\u001b[0m without_tracing \u001b[39m=\u001b[39m (tracing_count \u001b[39m==\u001b[39m new_tracing_count)\n",
      "File \u001b[1;32mc:\\Python3104\\lib\\site-packages\\tensorflow\\python\\eager\\def_function.py:954\u001b[0m, in \u001b[0;36mFunction._call\u001b[1;34m(self, *args, **kwds)\u001b[0m\n\u001b[0;32m    951\u001b[0m \u001b[39mself\u001b[39m\u001b[39m.\u001b[39m_lock\u001b[39m.\u001b[39mrelease()\n\u001b[0;32m    952\u001b[0m \u001b[39m# In this case we have not created variables on the first call. So we can\u001b[39;00m\n\u001b[0;32m    953\u001b[0m \u001b[39m# run the first trace but we should fail if variables are created.\u001b[39;00m\n\u001b[1;32m--> 954\u001b[0m results \u001b[39m=\u001b[39m \u001b[39mself\u001b[39m\u001b[39m.\u001b[39m_stateful_fn(\u001b[39m*\u001b[39margs, \u001b[39m*\u001b[39m\u001b[39m*\u001b[39mkwds)\n\u001b[0;32m    955\u001b[0m \u001b[39mif\u001b[39;00m \u001b[39mself\u001b[39m\u001b[39m.\u001b[39m_created_variables \u001b[39mand\u001b[39;00m \u001b[39mnot\u001b[39;00m ALLOW_DYNAMIC_VARIABLE_CREATION:\n\u001b[0;32m    956\u001b[0m   \u001b[39mraise\u001b[39;00m \u001b[39mValueError\u001b[39;00m(\u001b[39m\"\u001b[39m\u001b[39mCreating variables on a non-first call to a function\u001b[39m\u001b[39m\"\u001b[39m\n\u001b[0;32m    957\u001b[0m                    \u001b[39m\"\u001b[39m\u001b[39m decorated with tf.function.\u001b[39m\u001b[39m\"\u001b[39m)\n",
      "File \u001b[1;32mc:\\Python3104\\lib\\site-packages\\tensorflow\\python\\eager\\function.py:2453\u001b[0m, in \u001b[0;36mFunction.__call__\u001b[1;34m(self, *args, **kwargs)\u001b[0m\n\u001b[0;32m   2450\u001b[0m \u001b[39mwith\u001b[39;00m \u001b[39mself\u001b[39m\u001b[39m.\u001b[39m_lock:\n\u001b[0;32m   2451\u001b[0m   (graph_function,\n\u001b[0;32m   2452\u001b[0m    filtered_flat_args) \u001b[39m=\u001b[39m \u001b[39mself\u001b[39m\u001b[39m.\u001b[39m_maybe_define_function(args, kwargs)\n\u001b[1;32m-> 2453\u001b[0m \u001b[39mreturn\u001b[39;00m graph_function\u001b[39m.\u001b[39;49m_call_flat(\n\u001b[0;32m   2454\u001b[0m     filtered_flat_args, captured_inputs\u001b[39m=\u001b[39;49mgraph_function\u001b[39m.\u001b[39;49mcaptured_inputs)\n",
      "File \u001b[1;32mc:\\Python3104\\lib\\site-packages\\tensorflow\\python\\eager\\function.py:1860\u001b[0m, in \u001b[0;36mConcreteFunction._call_flat\u001b[1;34m(self, args, captured_inputs, cancellation_manager)\u001b[0m\n\u001b[0;32m   1856\u001b[0m possible_gradient_type \u001b[39m=\u001b[39m gradients_util\u001b[39m.\u001b[39mPossibleTapeGradientTypes(args)\n\u001b[0;32m   1857\u001b[0m \u001b[39mif\u001b[39;00m (possible_gradient_type \u001b[39m==\u001b[39m gradients_util\u001b[39m.\u001b[39mPOSSIBLE_GRADIENT_TYPES_NONE\n\u001b[0;32m   1858\u001b[0m     \u001b[39mand\u001b[39;00m executing_eagerly):\n\u001b[0;32m   1859\u001b[0m   \u001b[39m# No tape is watching; skip to running the function.\u001b[39;00m\n\u001b[1;32m-> 1860\u001b[0m   \u001b[39mreturn\u001b[39;00m \u001b[39mself\u001b[39m\u001b[39m.\u001b[39m_build_call_outputs(\u001b[39mself\u001b[39;49m\u001b[39m.\u001b[39;49m_inference_function\u001b[39m.\u001b[39;49mcall(\n\u001b[0;32m   1861\u001b[0m       ctx, args, cancellation_manager\u001b[39m=\u001b[39;49mcancellation_manager))\n\u001b[0;32m   1862\u001b[0m forward_backward \u001b[39m=\u001b[39m \u001b[39mself\u001b[39m\u001b[39m.\u001b[39m_select_forward_and_backward_functions(\n\u001b[0;32m   1863\u001b[0m     args,\n\u001b[0;32m   1864\u001b[0m     possible_gradient_type,\n\u001b[0;32m   1865\u001b[0m     executing_eagerly)\n\u001b[0;32m   1866\u001b[0m forward_function, args_with_tangents \u001b[39m=\u001b[39m forward_backward\u001b[39m.\u001b[39mforward()\n",
      "File \u001b[1;32mc:\\Python3104\\lib\\site-packages\\tensorflow\\python\\eager\\function.py:497\u001b[0m, in \u001b[0;36m_EagerDefinedFunction.call\u001b[1;34m(self, ctx, args, cancellation_manager)\u001b[0m\n\u001b[0;32m    495\u001b[0m \u001b[39mwith\u001b[39;00m _InterpolateFunctionError(\u001b[39mself\u001b[39m):\n\u001b[0;32m    496\u001b[0m   \u001b[39mif\u001b[39;00m cancellation_manager \u001b[39mis\u001b[39;00m \u001b[39mNone\u001b[39;00m:\n\u001b[1;32m--> 497\u001b[0m     outputs \u001b[39m=\u001b[39m execute\u001b[39m.\u001b[39;49mexecute(\n\u001b[0;32m    498\u001b[0m         \u001b[39mstr\u001b[39;49m(\u001b[39mself\u001b[39;49m\u001b[39m.\u001b[39;49msignature\u001b[39m.\u001b[39;49mname),\n\u001b[0;32m    499\u001b[0m         num_outputs\u001b[39m=\u001b[39;49m\u001b[39mself\u001b[39;49m\u001b[39m.\u001b[39;49m_num_outputs,\n\u001b[0;32m    500\u001b[0m         inputs\u001b[39m=\u001b[39;49margs,\n\u001b[0;32m    501\u001b[0m         attrs\u001b[39m=\u001b[39;49mattrs,\n\u001b[0;32m    502\u001b[0m         ctx\u001b[39m=\u001b[39;49mctx)\n\u001b[0;32m    503\u001b[0m   \u001b[39melse\u001b[39;00m:\n\u001b[0;32m    504\u001b[0m     outputs \u001b[39m=\u001b[39m execute\u001b[39m.\u001b[39mexecute_with_cancellation(\n\u001b[0;32m    505\u001b[0m         \u001b[39mstr\u001b[39m(\u001b[39mself\u001b[39m\u001b[39m.\u001b[39msignature\u001b[39m.\u001b[39mname),\n\u001b[0;32m    506\u001b[0m         num_outputs\u001b[39m=\u001b[39m\u001b[39mself\u001b[39m\u001b[39m.\u001b[39m_num_outputs,\n\u001b[1;32m   (...)\u001b[0m\n\u001b[0;32m    509\u001b[0m         ctx\u001b[39m=\u001b[39mctx,\n\u001b[0;32m    510\u001b[0m         cancellation_manager\u001b[39m=\u001b[39mcancellation_manager)\n",
      "File \u001b[1;32mc:\\Python3104\\lib\\site-packages\\tensorflow\\python\\eager\\execute.py:54\u001b[0m, in \u001b[0;36mquick_execute\u001b[1;34m(op_name, num_outputs, inputs, attrs, ctx, name)\u001b[0m\n\u001b[0;32m     52\u001b[0m \u001b[39mtry\u001b[39;00m:\n\u001b[0;32m     53\u001b[0m   ctx\u001b[39m.\u001b[39mensure_initialized()\n\u001b[1;32m---> 54\u001b[0m   tensors \u001b[39m=\u001b[39m pywrap_tfe\u001b[39m.\u001b[39;49mTFE_Py_Execute(ctx\u001b[39m.\u001b[39;49m_handle, device_name, op_name,\n\u001b[0;32m     55\u001b[0m                                       inputs, attrs, num_outputs)\n\u001b[0;32m     56\u001b[0m \u001b[39mexcept\u001b[39;00m core\u001b[39m.\u001b[39m_NotOkStatusException \u001b[39mas\u001b[39;00m e:\n\u001b[0;32m     57\u001b[0m   \u001b[39mif\u001b[39;00m name \u001b[39mis\u001b[39;00m \u001b[39mnot\u001b[39;00m \u001b[39mNone\u001b[39;00m:\n",
      "\u001b[1;31mKeyboardInterrupt\u001b[0m: "
     ]
    }
   ],
   "source": [
    "model.compile(optimizer=opt, loss=BinaryCrossentropy(), metrics=['accuracy'])\n",
    "model.fit(x_train, y_train, batch_size=100, epochs=100, callbacks=[], validation_data=(x_valid, y_valid), shuffle=True)"
   ]
  }
 ],
 "metadata": {
  "kernelspec": {
   "display_name": "Python 3.10.4 64-bit",
   "language": "python",
   "name": "python3"
  },
  "language_info": {
   "codemirror_mode": {
    "name": "ipython",
    "version": 3
   },
   "file_extension": ".py",
   "mimetype": "text/x-python",
   "name": "python",
   "nbconvert_exporter": "python",
   "pygments_lexer": "ipython3",
   "version": "3.10.4"
  },
  "orig_nbformat": 4,
  "vscode": {
   "interpreter": {
    "hash": "0986a705e0e9c41aedb0cb54b09a403593fe0a5bc8bc18fb428b786d741665bc"
   }
  }
 },
 "nbformat": 4,
 "nbformat_minor": 2
}
